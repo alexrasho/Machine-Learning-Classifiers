{
 "cells": [
  {
   "cell_type": "code",
   "execution_count": 1,
   "metadata": {
    "collapsed": false
   },
   "outputs": [],
   "source": [
    "import pandas\n",
    "import sklearn.preprocessing\n",
    "\n",
    "# bank.csv from https://archive.ics.uci.edu/ml/datasets/Bank+Marketing\n",
    "\n",
    "bank = pandas.read_csv('/Users/alexrasho/Downloads/bank/bank.csv', sep=';')\n",
    "\n",
    "# Ordinal features\n",
    "#\n",
    "# Note: month probably shouldn't be ordinal.\n",
    "# Then again, neither should day.\n",
    "\n",
    "boolean = { 'no': 0.0, 'yes': 1.0 }\n",
    "months = {\n",
    "    'jan': 1.0, 'feb': 2.0, 'mar': 3.0, 'apr': 4.0,  'may': 5.0,  'jun': 6.0,\n",
    "    'jul': 7.0, 'aug': 8.0, 'sep': 9.0, 'oct': 10.0, 'nov': 11.0, 'dec': 12.0\n",
    "}\n",
    "\n",
    "bank.replace({\n",
    "    'default': boolean,\n",
    "    'housing': boolean,\n",
    "    'loan':    boolean,\n",
    "    'month':   months,\n",
    "    'y':       boolean\n",
    "}, inplace=True)\n",
    "\n",
    "# Categorical features\n",
    "#\n",
    "# Since we plan to use logistic regression, add drop_first=True\n",
    "# to use dummy instead of one-hot encoding\n",
    "\n",
    "categorical = ['job', 'marital', 'education', 'contact', 'poutcome']\n",
    "bank = pandas.get_dummies(bank, columns=categorical, prefix=categorical, drop_first=True)\n",
    "\n",
    "# Numeric features\n",
    "#\n",
    "# Standardized because we plan to use KNN and SVM \n",
    "\n",
    "scaled = ['age', 'balance', 'day', 'month', 'duration', 'campaign', 'pdays', 'previous']\n",
    "bank[scaled] = sklearn.preprocessing.scale(bank[scaled].astype(float))\n",
    "\n",
    "# Training set and targets\n",
    "\n",
    "X = bank.drop(columns='y').values\n",
    "t = bank['y'].values"
   ]
  },
  {
   "cell_type": "code",
   "execution_count": 2,
   "metadata": {
    "collapsed": true
   },
   "outputs": [],
   "source": [
    "# Number 2\n",
    "\n",
    "from sklearn.model_selection import train_test_split\n",
    "\n",
    "# Train, Test, and Split data\n",
    "X_train, X_test, t_train, t_test = train_test_split(X, t, test_size=0.2)"
   ]
  },
  {
   "cell_type": "code",
   "execution_count": 3,
   "metadata": {
    "collapsed": false
   },
   "outputs": [
    {
     "data": {
      "image/png": "[encoded data removed]",
      "text/plain": [
       "<matplotlib.figure.Figure at 0x121872c18>"
      ]
     },
     "metadata": {},
     "output_type": "display_data"
    },
    {
     "name": "stdout",
     "output_type": "stream",
     "text": [
      "The score is: 0.8187845303867404\n",
      "The confusion matrix is:\n",
      " [[684 123]\n",
      " [ 41  57]]\n",
      "The roc_auc_score is: 0.814037882811117\n"
     ]
    }
   ],
   "source": [
    "# Number 3\n",
    "from sklearn.naive_bayes import GaussianNB\n",
    "from sklearn.metrics import confusion_matrix, roc_curve, roc_auc_score\n",
    "import matplotlib.pyplot as plt\n",
    "\n",
    "clf = GaussianNB()\n",
    "clf.fit(X_train, t_train)\n",
    "prediction = clf.predict(X_test)\n",
    "score = clf.score(X_test, t_test)\n",
    "conf_matrix = confusion_matrix(t_test, prediction)\n",
    "\n",
    "pred_prob_t = clf.predict_proba(X_test)[:,1]\n",
    "roc_score = roc_auc_score(t_test, pred_prob_t)\n",
    "fpr, tpr, thresholds = roc_curve(t_test, pred_prob_t)\n",
    "\n",
    "plt.plot(fpr, tpr, color='darkorange', lw=2)\n",
    "plt.title(\"ROC Curve\")\n",
    "plt.plot([0,1],[0,1], 'b')\n",
    "plt.show()\n",
    "\n",
    "print(\"The score is:\", score)\n",
    "print(\"The confusion matrix is:\\n\", conf_matrix)\n",
    "print(\"The roc_auc_score is:\", roc_score)"
   ]
  },
  {
   "cell_type": "code",
   "execution_count": 4,
   "metadata": {
    "collapsed": false
   },
   "outputs": [
    {
     "data": {
      "image/png": "[encoded data removed]",
      "text/plain": [
       "<matplotlib.figure.Figure at 0x1252ac780>"
      ]
     },
     "metadata": {},
     "output_type": "display_data"
    },
    {
     "data": {
      "text/plain": [
       "0.9027624309392265"
      ]
     },
     "execution_count": 4,
     "metadata": {},
     "output_type": "execute_result"
    }
   ],
   "source": [
    "# Number 4\n",
    "\n",
    "from sklearn.linear_model import LogisticRegression\n",
    "\n",
    "lr = LogisticRegression(solver='lbfgs', fit_intercept=False)\n",
    "X_train, X_train_lr, t_train, t_train_lr = train_test_split(X_train, t_train, test_size=0.2)\n",
    "lr.fit(X_train_lr, t_train_lr)\n",
    "pred_prob_t_lr = lr.predict_proba(X_test)[:,1]\n",
    "fpr_rt_lm, tpr_rt_lm, thresholds_lm = roc_curve(t_test, pred_prob_t_lr)\n",
    "\n",
    "plt.plot(fpr_rt_lm, tpr_rt_lm, color='darkorange', lw=2)\n",
    "plt.plot([0,1],[0,1], 'b')\n",
    "plt.show()\n",
    "\n",
    "lr.score(X_test, t_test)"
   ]
  },
  {
   "cell_type": "code",
   "execution_count": 5,
   "metadata": {
    "collapsed": false
   },
   "outputs": [
    {
     "data": {
      "image/png": "[encoded data removed]",
      "text/plain": [
       "<matplotlib.figure.Figure at 0x1284e7668>"
      ]
     },
     "metadata": {},
     "output_type": "display_data"
    },
    {
     "name": "stdout",
     "output_type": "stream",
     "text": [
      "0.8906077348066298\n",
      "0.8839779005524862\n"
     ]
    }
   ],
   "source": [
    "# Number 5 Linear\n",
    "\n",
    "from sklearn.svm import SVC\n",
    "\n",
    "X_train, X_test, t_train, t_test = train_test_split(X, t, test_size=0.2)\n",
    "\n",
    "svc_linear = SVC(kernel='linear', probability=True, gamma='auto')\n",
    "svc_score_linear = svc_linear.fit(X_train, t_train).decision_function(X_test)\n",
    "fpr_lin, tpr_lin, thresholds = roc_curve(t_test, svc_score_linear)\n",
    "\n",
    "svc_poly = SVC(kernel='poly', probability=True, gamma='auto')\n",
    "svc_score_poly = svc_poly.fit(X_train, t_train).decision_function(X_test)\n",
    "fpr_poly, tpr_poly, thresholds = roc_curve(t_test, svc_score_poly)\n",
    "\n",
    "svc_rbf = SVC(kernel='rbf', probability=True, gamma='auto')\n",
    "svc_score_rbf = svc_rbf.fit(X_train, t_train).decision_function(X_test)\n",
    "fpr_rbf, tpr_rbf, thresholds = roc_curve(t_test, svc_score_rbf)\n",
    "\n",
    "svc_sigmoid = SVC(kernel='sigmoid', probability=True, gamma='auto')\n",
    "svc_score_sigmoid = svc_sigmoid.fit(X_train, t_train).decision_function(X_test)\n",
    "fpr_sig, tpr_sig, thresholds = roc_curve(t_test, svc_score_sigmoid)\n",
    "\n",
    "plt.plot(fpr_lin, tpr_lin, label='Linear', color='red')\n",
    "plt.plot(fpr_poly, tpr_poly, label='Poly', color='blue')\n",
    "plt.plot(fpr_rbf, tpr_rbf, label='RBF', color='green')\n",
    "plt.plot(fpr_sig, tpr_sig, label='Sigmoid', color='purple')\n",
    "plt.plot([0,1],[0,1], 'grey')\n",
    "plt.legend(loc=\"lower right\")\n",
    "plt.show()\n",
    "\n",
    "print(svc_linear.score(X_test, t_test))\n",
    "print(svc_rbf.score(X_test, t_test))"
   ]
  },
  {
   "cell_type": "markdown",
   "metadata": {},
   "source": [
    "Number 6.\n",
    "\n",
    "The Scores indicate that the Logistic Regression model from Problem 4 as the best classifier."
   ]
  },
  {
   "cell_type": "code",
   "execution_count": 12,
   "metadata": {
    "collapsed": false
   },
   "outputs": [
    {
     "name": "stdout",
     "output_type": "stream",
     "text": [
      "Training Count of 0s: 3198\n",
      "Training Count of 1s: 418\n",
      "Accuracy of predicting 0 = 0.8861878453038674\n"
     ]
    }
   ],
   "source": [
    "import numpy as np\n",
    "\n",
    "trainCount0 = 0;\n",
    "trainCount1 = 0;\n",
    "testCount0 = 0;\n",
    "for i in range (0,t_train.size):\n",
    "    if t_train[i] == 0:\n",
    "        trainCount0 += 1\n",
    "    elif t_train[i] == 1:\n",
    "        trainCount1 += 1\n",
    "\n",
    "print(\"Training Count of 0s:\", trainCount0)\n",
    "print(\"Training Count of 1s:\", trainCount1)\n",
    "pred0 = np.zeros((t_test.size,))\n",
    "\n",
    "for i in range (0,t_test.size):\n",
    "    if t_test[i] == 0:\n",
    "        testCount0 += 1\n",
    "        \n",
    "print(\"Accuracy of predicting 0 =\", testCount0/t_test.size) \n",
    "\n",
    "lr.score(X_test, t_test)\n",
    "\n",
    "pred_prob_t_lr = lr.predict_proba(X_test)[:,1]\n",
    "\n",
    "\n",
    "    "
   ]
  },
  {
   "cell_type": "code",
   "execution_count": null,
   "metadata": {
    "collapsed": true
   },
   "outputs": [],
   "source": []
  },
  {
   "cell_type": "code",
   "execution_count": null,
   "metadata": {
    "collapsed": true
   },
   "outputs": [],
   "source": []
  }
 ],
 "metadata": {
  "kernelspec": {
   "display_name": "Python 3",
   "language": "python",
   "name": "python3"
  },
  "language_info": {
   "codemirror_mode": {
    "name": "ipython",
    "version": 3
   },
   "file_extension": ".py",
   "mimetype": "text/x-python",
   "name": "python",
   "nbconvert_exporter": "python",
   "pygments_lexer": "ipython3",
   "version": "3.6.0"
  }
 },
 "nbformat": 4,
 "nbformat_minor": 2
}
